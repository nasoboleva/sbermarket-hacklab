{
  "nbformat": 4,
  "nbformat_minor": 0,
  "metadata": {
    "colab": {
      "name": "main_pipeline.ipynb",
      "provenance": [],
      "toc_visible": true
    },
    "kernelspec": {
      "name": "python3",
      "display_name": "Python 3"
    }
  },
  "cells": [
    {
      "cell_type": "markdown",
      "metadata": {
        "id": "TRulu9p4cKfJ"
      },
      "source": [
        "## BIG FAT FUNCTION"
      ]
    },
    {
      "cell_type": "code",
      "metadata": {
        "id": "VY5XLgEzddJx",
        "outputId": "ba7f73cf-dafd-45da-ad7a-8b2b89735f3e",
        "colab": {
          "base_uri": "https://localhost:8080/",
          "height": 51
        }
      },
      "source": [
        "% cd drive/My\\ Drive/sber_hack"
      ],
      "execution_count": 4,
      "outputs": [
        {
          "output_type": "stream",
          "text": [
            "[Errno 2] No such file or directory: 'drive/My Drive/sber_hack'\n",
            "/content/drive/My Drive/sber_hack\n"
          ],
          "name": "stdout"
        }
      ]
    },
    {
      "cell_type": "code",
      "metadata": {
        "id": "snW-RDXOde7y"
      },
      "source": [
        "import pandas as pd\n",
        "import numpy as np\n",
        "import matplotlib.pyplot as plt\n",
        "import seaborn as sns\n",
        "\n",
        "import os\n",
        "import tqdm"
      ],
      "execution_count": 5,
      "outputs": []
    },
    {
      "cell_type": "code",
      "metadata": {
        "id": "FtULvPJudGW5"
      },
      "source": [
        "train_df = pd.read_csv('train.csv')\n",
        "all_retailers = sorted(list(train_df['retailer'].unique()))\n",
        "\n",
        "store_products_by_sales = pd.read_csv('store_products_by_sales.csv')\n",
        "df_agg = store_products_by_sales.groupby(['retailer', 'product_id']).agg({'sales':sum})\n",
        "g = df_agg['sales'].groupby(level=0, group_keys=False)\n",
        "top100_retailers = g.apply(lambda x: x.sort_values(ascending=False).head(100)).reset_index().drop(['sales'], axis=1)\n",
        "\n",
        "top100_retailers_count = g.apply(lambda x: x.sort_values(ascending=False).head(100)).reset_index()"
      ],
      "execution_count": 6,
      "outputs": []
    },
    {
      "cell_type": "code",
      "metadata": {
        "id": "oMuFT1RGpgvF",
        "outputId": "2e9c5169-a462-4688-aeec-d3a022ecfb6b",
        "colab": {
          "base_uri": "https://localhost:8080/",
          "height": 34
        }
      },
      "source": [
        "len(top100_retailers[top100_retailers.retailer == 'Home Market'])"
      ],
      "execution_count": null,
      "outputs": [
        {
          "output_type": "execute_result",
          "data": {
            "text/plain": [
              "27"
            ]
          },
          "metadata": {
            "tags": []
          },
          "execution_count": 11
        }
      ]
    },
    {
      "cell_type": "code",
      "metadata": {
        "id": "gJfnhFGwcGbz"
      },
      "source": [
        "from sklearn.neighbors import NearestNeighbors\n",
        "from sklearn.preprocessing import StandardScaler\n",
        "\n",
        "from sklearn.preprocessing import MultiLabelBinarizer\n",
        "from sklearn.linear_model import LogisticRegression"
      ],
      "execution_count": null,
      "outputs": []
    },
    {
      "cell_type": "code",
      "metadata": {
        "id": "JYd_cWvABgNw"
      },
      "source": [
        "def build_and_train(path, retailer, top100_retailers, top100_retailers_count, mode='train', path_train=None):\n",
        "    retail_data = pd.read_csv(path)\n",
        "\n",
        "    if mode == 'test':\n",
        "        train_data = pd.read_csv(path_train)\n",
        "\n",
        "    # one hot for platform & products\n",
        "    retail_data['undefined'] = np.zeros(len(retail_data))\n",
        "    one_hot = pd.get_dummies(retail_data['platform'])\n",
        "    retail_data[one_hot.columns] = one_hot \n",
        "    \n",
        "    if mode == 'test': \n",
        "        retail_data = pd.merge(retail_data, train_data.groupby(by='user_id').order_id.max(), how='left', on='user_id')\n",
        "        retail_data = pd.merge(retail_data, train_data[['order_id', 'product_id']], how='left', left_on='order_id_y', right_on='order_id')\n",
        "        retail_data.product_id = retail_data.product_id.fillna('[0, 0]')\n",
        "    \n",
        "    top100_poducts = top100_retailers.loc[top100_retailers.retailer == retailer].product_id.unique()\n",
        "    n_products = len(top100_poducts)\n",
        "    retail_data.product_id = [[int(idx) for idx in x[1:-1].split(',')] for x in retail_data.product_id]\n",
        "\n",
        "    if mode == 'train':\n",
        "        ml = retail_data.join(\n",
        "                              pd.DataFrame.sparse.from_spmatrix(\n",
        "                              bnrs[retailer].fit_transform(retail_data.pop('product_id')),\n",
        "                              index=retail_data.index,\n",
        "                              columns=bnrs[retailer].classes_))\n",
        "        \n",
        "    elif mode == 'test':\n",
        "        ml = retail_data.join(\n",
        "                              pd.DataFrame.sparse.from_spmatrix(\n",
        "                              bnrs[retailer].transform(retail_data.pop('product_id')),\n",
        "                              index=retail_data.index,\n",
        "                              columns=bnrs[retailer].classes_))\n",
        "    \n",
        "    \n",
        "    retail_data[top100_poducts] = ml[top100_poducts].values\n",
        "\n",
        "    if mode == 'train':\n",
        "        mean_products[retailer] = retail_data[top100_poducts].values.mean(axis=0)\n",
        "\n",
        "        retail_users_and_orders = retail_data.groupby(by='user_id').order_id.apply(list)[retail_data.groupby(by='user_id').order_id.count() > 1].reset_index()\n",
        "        if len(retail_users_and_orders) < 1:\n",
        "            retail_data_fake = retail_data.copy()\n",
        "            retail_data_fake.order_id -= 1\n",
        "            retail_data_fake[top100_poducts] = np.tile(mean_products[retailer], len(retail_data_fake)).reshape(-1, n_products)\n",
        "\n",
        "            retail_data = retail_data.append(retail_data_fake, ignore_index=True)\n",
        "            retail_users_and_orders = retail_data.groupby(by='user_id').order_id.apply(list)[retail_data.groupby(by='user_id').order_id.count() > 1].reset_index()\n",
        "\n",
        "    # train KNN\n",
        "    if mode == 'train':\n",
        "        X_knn = retail_data.drop(['user_id', 'order_id', 'order_created_time', 'retailer', 'store_id', 'platform'], axis=1).values\n",
        "        X_knn_scaled = sclrs_knn[retailer].fit_transform(X_knn)\n",
        "        nbrs[retailer] = nbrs[retailer].fit(X_knn_scaled)\n",
        "    \n",
        "    elif  mode == 'test':\n",
        "        retail_data.loc[retail_data.order_id.isna(), top100_poducts] = np.tile(mean_products[retailer], len(retail_data.loc[retail_data.order_id.isna()])).reshape(-1, n_products)\n",
        "        X_knn = retail_data.drop(['user_id', 'order_id', 'order_id_x', 'order_id_y', 'order_created_time', 'retailer', 'store_id', 'platform'], axis=1).fillna(0).values\n",
        "        X_knn_scaled = sclrs_knn[retailer].transform(X_knn)\n",
        "        \n",
        "    distances_retail, indices_retail = nbrs[retailer].kneighbors(X_knn_scaled)\n",
        "\n",
        "    # create dataset for logreg\n",
        "    if mode == 'train':\n",
        "        logreg_data[retailer] = retail_data[top100_poducts].values\n",
        "        mean_products[retailer] = logreg_data[retailer].mean(axis=0)\n",
        "\n",
        "        train_X, train_Y = [], []\n",
        "        for user, orders in tqdm.tqdm(retail_users_and_orders.values):\n",
        "            train_order_x, train_order_y = np.sort(orders)[-2:]\n",
        "            ind_x = retail_data.loc[(retail_data.user_id == user) & (retail_data.order_id == train_order_x)].index\n",
        "            ind_y = retail_data.loc[(retail_data.user_id == user) & (retail_data.order_id == train_order_y)].index\n",
        "\n",
        "            neighbors = indices_retail[ind_x][indices_retail[ind_x] != ind_y][:K_NEIGHBOURS[retailer]-1]\n",
        "            \n",
        "            train_X += [np.vstack([logreg_data[retailer][neighbors], top100_retailers_count.loc[top100_retailers_count.retailer == retailer].sales.values]).T]\n",
        "            train_Y += [logreg_data[retailer][ind_y][0]]\n",
        "        \n",
        "        train_X, train_Y = np.vstack(train_X), np.hstack(train_Y)\n",
        "\n",
        "    elif mode == 'test':\n",
        "        train_X = []\n",
        "        for inds in indices_retail:\n",
        "            neighbors = inds[:K_NEIGHBOURS[retailer]-1]\n",
        "            \n",
        "            train_X += [np.vstack([logreg_data[retailer][neighbors], top100_retailers_count.loc[top100_retailers_count.retailer == retailer].sales.values]).T]\n",
        "\n",
        "        train_X = np.vstack(train_X)\n",
        "\n",
        "    # fit LogReg\n",
        "    if mode == 'train':\n",
        "        train_X_scaled = sclrs_lr[retailer].fit_transform(train_X)\n",
        "        clfs[retailer] = clfs[retailer].fit(train_X_scaled, train_Y)\n",
        "\n",
        "        return clfs[retailer].score(train_X_scaled, train_Y)\n",
        "    \n",
        "    elif mode == 'test':\n",
        "        train_X_scaled = sclrs_lr[retailer].transform(train_X)\n",
        "        clfs[retailer].predict_proba(train_X_scaled)\n",
        "\n",
        "        prediction_probs = clfs[retailer].predict_proba(train_X_scaled)[:, 1].reshape(-1, n_products)\n",
        "        best_args = np.argsort(-prediction_probs, axis=1)[:, :min(n_products, 50)]\n",
        "        return top100_poducts[best_args]"
      ],
      "execution_count": null,
      "outputs": []
    },
    {
      "cell_type": "code",
      "metadata": {
        "id": "5VoYWh_hG1T-"
      },
      "source": [
        "path = '/content/drive/My Drive/sber_hack/by_retailers/'\n",
        "\n",
        "bnrs, sclrs_knn, sclrs_lr, nbrs, clfs  = {}, {}, {}, {}, {}\n",
        "mean_products, logreg_data, n_samples, K_NEIGHBOURS = {}, {}, {}, {}\n",
        "\n",
        "for retailer in all_retailers:\n",
        "    retail_data = pd.read_csv(path + retailer + '/train_' + retailer + '.csv')\n",
        "    n_samples[retailer] = len(retail_data)\n",
        "    \n",
        "    bnrs[retailer] = MultiLabelBinarizer(sparse_output=True)\n",
        "    sclrs_knn[retailer] = StandardScaler()\n",
        "    sclrs_lr[retailer] = StandardScaler()\n",
        "\n",
        "    K_NEIGHBOURS[retailer] = 100\n",
        "    if n_samples[retailer] < 100:\n",
        "        K_NEIGHBOURS[retailer] = n_samples[retailer]\n",
        "\n",
        "    nbrs[retailer] = NearestNeighbors(n_neighbors=K_NEIGHBOURS[retailer], algorithm='ball_tree')\n",
        "    clfs[retailer] = LogisticRegression(random_state=0)\n",
        "\n",
        "    mean_products[retailer] = 0\n",
        "    logreg_data[retailer] = []"
      ],
      "execution_count": null,
      "outputs": []
    },
    {
      "cell_type": "code",
      "metadata": {
        "id": "mpHgnxgU7DX5",
        "outputId": "02c58690-0b06-4183-893d-720d5ed63b37",
        "colab": {
          "base_uri": "https://localhost:8080/",
          "height": 85
        }
      },
      "source": [
        "path = '/content/drive/My Drive/sber_hack/by_retailers/'\n",
        "\n",
        "for retailer in all_retailers:\n",
        "    accuracy = build_and_train(path + retailer + '/train_' + retailer + '.csv', retailer, top100_retailers, top100_retailers_count, mode='train')\n",
        "    print('Predictions on train for retailer:', retailer, 'gained accuracy =', accuracy)"
      ],
      "execution_count": null,
      "outputs": [
        {
          "output_type": "stream",
          "text": [
            "100%|██████████| 218/218 [00:00<00:00, 290.08it/s]\n",
            "100%|██████████| 4/4 [00:00<00:00, 196.88it/s]"
          ],
          "name": "stderr"
        },
        {
          "output_type": "stream",
          "text": [
            "Predictions on train for retailer: BILLA gained accuracy = 0.9535779816513762\n",
            "Predictions on train for retailer: Home Market gained accuracy = 0.7314814814814815\n"
          ],
          "name": "stdout"
        },
        {
          "output_type": "stream",
          "text": [
            "\n"
          ],
          "name": "stderr"
        }
      ]
    },
    {
      "cell_type": "code",
      "metadata": {
        "id": "_BzyhNBYje8A",
        "outputId": "a33406d5-01ed-4d65-df9f-4c3d7a3f9725",
        "colab": {
          "base_uri": "https://localhost:8080/",
          "height": 799
        }
      },
      "source": [
        "for retailer in tqdm.tqdm(all_retailers):\n",
        "    retail_data = pd.read_csv(path + retailer + '/train_' + retailer + '.csv')\n",
        "    print(retailer, len(retail_data))"
      ],
      "execution_count": null,
      "outputs": [
        {
          "output_type": "stream",
          "text": [
            "\r  0%|          | 0/45 [00:00<?, ?it/s]"
          ],
          "name": "stderr"
        },
        {
          "output_type": "stream",
          "text": [
            "BILLA 1908\n",
            "Home Market 4\n"
          ],
          "name": "stdout"
        },
        {
          "output_type": "stream",
          "text": [
            "\r  7%|▋         | 3/45 [00:10<02:30,  3.58s/it]"
          ],
          "name": "stderr"
        },
        {
          "output_type": "stream",
          "text": [
            "METRO 1222655\n"
          ],
          "name": "stdout"
        },
        {
          "output_type": "stream",
          "text": [
            "\r  9%|▉         | 4/45 [00:11<01:57,  2.86s/it]"
          ],
          "name": "stderr"
        },
        {
          "output_type": "stream",
          "text": [
            "REAL 1117\n"
          ],
          "name": "stdout"
        },
        {
          "output_type": "stream",
          "text": [
            "\r 11%|█         | 5/45 [00:13<01:36,  2.41s/it]"
          ],
          "name": "stderr"
        },
        {
          "output_type": "stream",
          "text": [
            "SELGROS 1141\n"
          ],
          "name": "stdout"
        },
        {
          "output_type": "stream",
          "text": [
            "\r 13%|█▎        | 6/45 [00:13<01:14,  1.90s/it]"
          ],
          "name": "stderr"
        },
        {
          "output_type": "stream",
          "text": [
            "АГРОКОМПЛЕКС 1\n"
          ],
          "name": "stdout"
        },
        {
          "output_type": "stream",
          "text": [
            "\r 16%|█▌        | 7/45 [00:14<00:59,  1.56s/it]"
          ],
          "name": "stderr"
        },
        {
          "output_type": "stream",
          "text": [
            "АУТЛЕТ 11\n"
          ],
          "name": "stdout"
        },
        {
          "output_type": "stream",
          "text": [
            "\r 18%|█▊        | 8/45 [00:15<00:50,  1.35s/it]"
          ],
          "name": "stderr"
        },
        {
          "output_type": "stream",
          "text": [
            "Азбука Вкуса 1180\n"
          ],
          "name": "stdout"
        },
        {
          "output_type": "stream",
          "text": [
            "\r 20%|██        | 9/45 [00:16<00:43,  1.20s/it]"
          ],
          "name": "stderr"
        },
        {
          "output_type": "stream",
          "text": [
            "Аллея 632\n"
          ],
          "name": "stdout"
        },
        {
          "output_type": "stream",
          "text": [
            "\r 22%|██▏       | 10/45 [00:21<01:24,  2.40s/it]"
          ],
          "name": "stderr"
        },
        {
          "output_type": "stream",
          "text": [
            "Ашан 343229\n"
          ],
          "name": "stdout"
        },
        {
          "output_type": "stream",
          "text": [
            "\r 24%|██▍       | 11/45 [00:22<01:05,  1.93s/it]"
          ],
          "name": "stderr"
        },
        {
          "output_type": "stream",
          "text": [
            "БЕГЕМАГ 13\n"
          ],
          "name": "stdout"
        },
        {
          "output_type": "stream",
          "text": [
            "\r 27%|██▋       | 12/45 [00:23<00:53,  1.62s/it]"
          ],
          "name": "stderr"
        },
        {
          "output_type": "stream",
          "text": [
            "Бахетле 701\n"
          ],
          "name": "stdout"
        },
        {
          "output_type": "stream",
          "text": [
            "\r 29%|██▉       | 13/45 [00:24<00:43,  1.37s/it]"
          ],
          "name": "stderr"
        },
        {
          "output_type": "stream",
          "text": [
            "Быстроном 210\n"
          ],
          "name": "stdout"
        },
        {
          "output_type": "stream",
          "text": [
            "\r 31%|███       | 14/45 [00:24<00:36,  1.19s/it]"
          ],
          "name": "stderr"
        },
        {
          "output_type": "stream",
          "text": [
            "ВЕГА 39\n"
          ],
          "name": "stdout"
        },
        {
          "output_type": "stream",
          "text": [
            "\r 33%|███▎      | 15/45 [00:25<00:33,  1.13s/it]"
          ],
          "name": "stderr"
        },
        {
          "output_type": "stream",
          "text": [
            "ВИКТОРИЯ 1642\n"
          ],
          "name": "stdout"
        },
        {
          "output_type": "stream",
          "text": [
            "\r 36%|███▌      | 16/45 [00:26<00:31,  1.09s/it]"
          ],
          "name": "stderr"
        },
        {
          "output_type": "stream",
          "text": [
            "ВкусВилл 5123\n"
          ],
          "name": "stdout"
        },
        {
          "output_type": "stream",
          "text": [
            "\r 38%|███▊      | 17/45 [00:27<00:27,  1.02it/s]"
          ],
          "name": "stderr"
        },
        {
          "output_type": "stream",
          "text": [
            "ДЕЯ 43\n"
          ],
          "name": "stdout"
        },
        {
          "output_type": "stream",
          "text": [
            "\r 40%|████      | 18/45 [00:28<00:24,  1.08it/s]"
          ],
          "name": "stderr"
        },
        {
          "output_type": "stream",
          "text": [
            "ЗЕЛЕНОЕ ЯБЛОКО 464\n"
          ],
          "name": "stdout"
        },
        {
          "output_type": "stream",
          "text": [
            "\r 42%|████▏     | 19/45 [00:29<00:22,  1.14it/s]"
          ],
          "name": "stderr"
        },
        {
          "output_type": "stream",
          "text": [
            "Забайкальский Привозъ 9\n"
          ],
          "name": "stdout"
        },
        {
          "output_type": "stream",
          "text": [
            "\r 44%|████▍     | 20/45 [00:29<00:20,  1.20it/s]"
          ],
          "name": "stderr"
        },
        {
          "output_type": "stream",
          "text": [
            "ИДЕЯ 42\n"
          ],
          "name": "stdout"
        },
        {
          "output_type": "stream",
          "text": [
            "\r 47%|████▋     | 21/45 [00:30<00:19,  1.24it/s]"
          ],
          "name": "stderr"
        },
        {
          "output_type": "stream",
          "text": [
            "КАРАВАН 35\n"
          ],
          "name": "stdout"
        },
        {
          "output_type": "stream",
          "text": [
            "\r 49%|████▉     | 22/45 [00:31<00:17,  1.29it/s]"
          ],
          "name": "stderr"
        },
        {
          "output_type": "stream",
          "text": [
            "КИТ 21\n"
          ],
          "name": "stdout"
        },
        {
          "output_type": "stream",
          "text": [
            "\r 51%|█████     | 23/45 [00:32<00:19,  1.14it/s]"
          ],
          "name": "stderr"
        },
        {
          "output_type": "stream",
          "text": [
            "Командор 1452\n"
          ],
          "name": "stdout"
        },
        {
          "output_type": "stream",
          "text": [
            "\r 53%|█████▎    | 24/45 [00:37<00:47,  2.25s/it]"
          ],
          "name": "stderr"
        },
        {
          "output_type": "stream",
          "text": [
            "Лента 537565\n"
          ],
          "name": "stdout"
        },
        {
          "output_type": "stream",
          "text": [
            "\r 56%|█████▌    | 25/45 [00:38<00:36,  1.81s/it]"
          ],
          "name": "stderr"
        },
        {
          "output_type": "stream",
          "text": [
            "МАГНОЛИЯ 158\n"
          ],
          "name": "stdout"
        },
        {
          "output_type": "stream",
          "text": [
            "\r 58%|█████▊    | 26/45 [00:40<00:31,  1.68s/it]"
          ],
          "name": "stderr"
        },
        {
          "output_type": "stream",
          "text": [
            "МЕГАМАРТ 9399\n"
          ],
          "name": "stdout"
        },
        {
          "output_type": "stream",
          "text": [
            "\r 60%|██████    | 27/45 [00:40<00:24,  1.38s/it]"
          ],
          "name": "stderr"
        },
        {
          "output_type": "stream",
          "text": [
            "МаксМаркет 28\n"
          ],
          "name": "stdout"
        },
        {
          "output_type": "stream",
          "text": [
            "\r 62%|██████▏   | 28/45 [00:41<00:20,  1.20s/it]"
          ],
          "name": "stderr"
        },
        {
          "output_type": "stream",
          "text": [
            "Мегас 1\n"
          ],
          "name": "stdout"
        },
        {
          "output_type": "stream",
          "text": [
            "\r 64%|██████▍   | 29/45 [00:42<00:17,  1.08s/it]"
          ],
          "name": "stderr"
        },
        {
          "output_type": "stream",
          "text": [
            "Оптоклуб РЯДЫ 2\n"
          ],
          "name": "stdout"
        },
        {
          "output_type": "stream",
          "text": [
            "\r 67%|██████▋   | 30/45 [00:43<00:14,  1.04it/s]"
          ],
          "name": "stderr"
        },
        {
          "output_type": "stream",
          "text": [
            "Осень 4\n"
          ],
          "name": "stdout"
        },
        {
          "output_type": "stream",
          "text": [
            "\r 69%|██████▉   | 31/45 [00:43<00:12,  1.10it/s]"
          ],
          "name": "stderr"
        },
        {
          "output_type": "stream",
          "text": [
            "ПАРУС 58\n"
          ],
          "name": "stdout"
        },
        {
          "output_type": "stream",
          "text": [
            "\r 71%|███████   | 32/45 [00:44<00:11,  1.14it/s]"
          ],
          "name": "stderr"
        },
        {
          "output_type": "stream",
          "text": [
            "СЕДЬМАЯ СТОЛИЦА 27\n"
          ],
          "name": "stdout"
        },
        {
          "output_type": "stream",
          "text": [
            "\r 73%|███████▎  | 33/45 [00:45<00:10,  1.19it/s]"
          ],
          "name": "stderr"
        },
        {
          "output_type": "stream",
          "text": [
            "СИГМА 20\n"
          ],
          "name": "stdout"
        },
        {
          "output_type": "stream",
          "text": [
            "\r 76%|███████▌  | 34/45 [00:46<00:08,  1.24it/s]"
          ],
          "name": "stderr"
        },
        {
          "output_type": "stream",
          "text": [
            "СберМаркет 8\n"
          ],
          "name": "stdout"
        },
        {
          "output_type": "stream",
          "text": [
            "\r 78%|███████▊  | 35/45 [00:46<00:08,  1.24it/s]"
          ],
          "name": "stderr"
        },
        {
          "output_type": "stream",
          "text": [
            "Столичный 41\n"
          ],
          "name": "stdout"
        },
        {
          "output_type": "stream",
          "text": [
            "\r 80%|████████  | 36/45 [00:47<00:06,  1.31it/s]"
          ],
          "name": "stderr"
        },
        {
          "output_type": "stream",
          "text": [
            "ТД ХОРОШИЙ 50\n"
          ],
          "name": "stdout"
        },
        {
          "output_type": "stream",
          "text": [
            "\r 82%|████████▏ | 37/45 [00:48<00:06,  1.27it/s]"
          ],
          "name": "stderr"
        },
        {
          "output_type": "stream",
          "text": [
            "ТИТАН 33\n"
          ],
          "name": "stdout"
        },
        {
          "output_type": "stream",
          "text": [
            "\r 84%|████████▍ | 38/45 [00:49<00:05,  1.29it/s]"
          ],
          "name": "stderr"
        },
        {
          "output_type": "stream",
          "text": [
            "ТЦ \"Новомариинский\"  19\n"
          ],
          "name": "stdout"
        },
        {
          "output_type": "stream",
          "text": [
            "\r 87%|████████▋ | 39/45 [00:50<00:04,  1.20it/s]"
          ],
          "name": "stderr"
        },
        {
          "output_type": "stream",
          "text": [
            "ТЦ STOЛИЦА 1\n"
          ],
          "name": "stdout"
        },
        {
          "output_type": "stream",
          "text": [
            "\r 89%|████████▉ | 40/45 [00:50<00:04,  1.21it/s]"
          ],
          "name": "stderr"
        },
        {
          "output_type": "stream",
          "text": [
            "УДАЧНАЯ ПОКУПКА 86\n"
          ],
          "name": "stdout"
        },
        {
          "output_type": "stream",
          "text": [
            "\r 91%|█████████ | 41/45 [00:51<00:03,  1.24it/s]"
          ],
          "name": "stderr"
        },
        {
          "output_type": "stream",
          "text": [
            "Улыбка Радуги 1\n"
          ],
          "name": "stdout"
        },
        {
          "output_type": "stream",
          "text": [
            "\r 93%|█████████▎| 42/45 [00:52<00:02,  1.25it/s]"
          ],
          "name": "stderr"
        },
        {
          "output_type": "stream",
          "text": [
            "Фреш25 31\n"
          ],
          "name": "stdout"
        },
        {
          "output_type": "stream",
          "text": [
            "\r 96%|█████████▌| 43/45 [00:53<00:01,  1.24it/s]"
          ],
          "name": "stderr"
        },
        {
          "output_type": "stream",
          "text": [
            "Хороший 321\n"
          ],
          "name": "stdout"
        },
        {
          "output_type": "stream",
          "text": [
            "\r 98%|█████████▊| 44/45 [00:54<00:00,  1.25it/s]"
          ],
          "name": "stderr"
        },
        {
          "output_type": "stream",
          "text": [
            "Шан 10\n"
          ],
          "name": "stdout"
        },
        {
          "output_type": "stream",
          "text": [
            "100%|██████████| 45/45 [00:54<00:00,  1.22s/it]"
          ],
          "name": "stderr"
        },
        {
          "output_type": "stream",
          "text": [
            "ЮгОпт 12\n"
          ],
          "name": "stdout"
        },
        {
          "output_type": "stream",
          "text": [
            "\n"
          ],
          "name": "stderr"
        }
      ]
    },
    {
      "cell_type": "code",
      "metadata": {
        "id": "g01hKXdMhJCa",
        "outputId": "82aede13-08d3-4b26-9bb5-48a794663356",
        "colab": {
          "base_uri": "https://localhost:8080/",
          "height": 34
        }
      },
      "source": [
        "prediction = build_and_train('/content/drive/My Drive/sber_hack/by_retailers/BILLA/test_BILLA.csv', 'BILLA', \n",
        "                              top100_retailers, top100_retailers_count, mode='test',\n",
        "                              path_train='/content/drive/My Drive/sber_hack/by_retailers/BILLA/train_BILLA.csv')\n",
        "\n",
        "prediction.shape"
      ],
      "execution_count": null,
      "outputs": [
        {
          "output_type": "execute_result",
          "data": {
            "text/plain": [
              "(137, 50)"
            ]
          },
          "metadata": {
            "tags": []
          },
          "execution_count": 15
        }
      ]
    },
    {
      "cell_type": "code",
      "metadata": {
        "id": "tjXoz2g0ifPV"
      },
      "source": [
        ""
      ],
      "execution_count": null,
      "outputs": []
    }
  ]
}